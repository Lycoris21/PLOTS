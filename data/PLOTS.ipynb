{
 "cells": [
  {
   "cell_type": "markdown",
   "id": "d6d6f899",
   "metadata": {},
   "source": [
    "# PLOTS\n",
    "## CIS 3203N GROUP 3  \n",
    "\n",
    "**Thesis Partner 1:** Dejito, Christine Ann  \n",
    "**Thesis Partner 2:** Roca, Zophia Maureen  \n",
    "**Date:** February 9, 2025  \n",
    "\n",
    "---\n",
    "\n",
    "## Instructions\n",
    "- Use the same font and font size for all graphs.\n",
    "- Collate the separate graphs into **one single image** for printing.\n",
    "- Ensure the collated image is **clearly visible** when pasted on a long bond paper.\n",
    "\n",
    "---\n",
    "\n",
    "## Deadline\n",
    "- **Monday, February 10, 2025, at 2:00 PM.**\n",
    "\n",
    "---\n",
    "\n",
    "## Deliverables\n",
    "1. Python code.\n",
    "2. `.png` files of each graph.\n",
    "3. `.png` file of the collated graphs.\n",
    "4. A sample of the collated file pasted into a document, saved as a `.pdf` file.\n",
    "5. Push everything to your GitHub account.\n",
    "\n",
    "---"
   ]
  },
  {
   "cell_type": "markdown",
   "id": "c8ba4f59",
   "metadata": {},
   "source": [
    "## Code Implementation\n",
    "\n",
    "### (a) Bar Graph\n",
    "- Create a horizontal stacked bar chart.\n",
    "- Transform `1` into **\"Yes\"** and `0` into **\"No\"**.\n",
    "- Follow the plot specifications for the bar plot."
   ]
  },
  {
   "cell_type": "code",
   "execution_count": 51,
   "id": "b8c3b502",
   "metadata": {},
   "outputs": [
    {
     "data": {
      "image/png": "[encoded data removed]",
      "text/plain": [
       "<Figure size 1000x600 with 1 Axes>"
      ]
     },
     "metadata": {},
     "output_type": "display_data"
    }
   ],
   "source": [
    "import pandas as pd\n",
    "import matplotlib.pyplot as plt\n",
    "import os\n",
    "\n",
    "# Load dataset from CSV\n",
    "file_path = os.path.join(os.getcwd(), \"bar_assignment.csv\")\n",
    "df = pd.read_csv(file_path)\n",
    "\n",
    "# Ensure correct column names\n",
    "expected_columns = ['LABEL', 'COUNT']\n",
    "if not all(col in df.columns for col in expected_columns):\n",
    "    raise ValueError(f\"CSV file must contain the columns: {expected_columns}\")\n",
    "\n",
    "# Replace 1 with 'Yes' and 0 with 'No'\n",
    "df['COUNT'] = df['COUNT'].map({1: 'Yes', 0: 'No'})\n",
    "\n",
    "# Group by LABEL and COUNT, and get the count of each\n",
    "grouped = df.groupby(['LABEL', 'COUNT']).size().unstack(fill_value=0)\n",
    "\n",
    "# Plotting the stacked bar chart\n",
    "ax = grouped.plot(kind='barh', stacked=True, color=['red', 'green'], figsize=(10, 6))\n",
    "\n",
    "# Annotating individual counts for each section, aligned to the right\n",
    "for i, (label, counts) in enumerate(grouped.iterrows()):\n",
    "    yes_count = counts['Yes']\n",
    "    no_count = counts['No']\n",
    "    \n",
    "    # Add individual counts for the red (No) section, right-aligned\n",
    "    if no_count > 0:\n",
    "        ax.text(no_count - 0.2, i, f'{no_count}', va='center', ha='right', color='white', fontweight='bold')\n",
    "    \n",
    "    # Add individual counts for the green (Yes) section, right-aligned\n",
    "    if yes_count > 0:\n",
    "        ax.text(yes_count + no_count - 0.2, i, f'{yes_count}', va='center', ha='right', color='white', fontweight='bold')\n",
    "\n",
    "# Customizing the plot\n",
    "plt.suptitle(\"Bar Graph\", fontsize=16, ha='center', va='bottom')  # Title above the plot\n",
    "plt.xlabel(\"Count\")\n",
    "plt.ylabel(\"Label\")\n",
    "plt.legend(title='Legend', loc='upper left', bbox_to_anchor=(0, 1.15), borderaxespad=0., ncol=2)\n",
    "plt.tight_layout()\n",
    "\n",
    "# Display the plot\n",
    "plt.show()"
   ]
  },
  {
   "cell_type": "code",
   "execution_count": null,
   "id": "7780c4e2",
   "metadata": {},
   "outputs": [],
   "source": []
  }
 ],
 "metadata": {
  "kernelspec": {
   "display_name": "Python 3 (ipykernel)",
   "language": "python",
   "name": "python3"
  },
  "language_info": {
   "codemirror_mode": {
    "name": "ipython",
    "version": 3
   },
   "file_extension": ".py",
   "mimetype": "text/x-python",
   "name": "python",
   "nbconvert_exporter": "python",
   "pygments_lexer": "ipython3",
   "version": "3.11.4"
  }
 },
 "nbformat": 4,
 "nbformat_minor": 5
}
